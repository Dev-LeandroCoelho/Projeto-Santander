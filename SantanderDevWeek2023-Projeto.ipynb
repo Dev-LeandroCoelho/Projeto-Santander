{
 "cells": [
  {
   "cell_type": "code",
   "execution_count": 1,
   "metadata": {},
   "outputs": [],
   "source": [
    "import pandas as pd\n",
    "import sqlite3"
   ]
  },
  {
   "cell_type": "code",
   "execution_count": 2,
   "metadata": {},
   "outputs": [
    {
     "name": "stdout",
     "output_type": "stream",
     "text": [
      "Arquivo 'dados.csv' criado com sucesso.\n"
     ]
    }
   ],
   "source": [
    "# Crie um DataFrame com os dados\n",
    "data = {\n",
    "    'nome': ['Alice', 'Bob', 'Charlie', 'David', 'Eva'],\n",
    "    'idade': [28, 35, 42, 30, 29],\n",
    "    'cidade': ['New York', 'Los Angeles', 'San Francisco', 'Chicago', 'Boston']\n",
    "}\n",
    "\n",
    "df = pd.DataFrame(data)\n",
    "\n",
    "# Salve o DataFrame em um arquivo CSV\n",
    "df.to_csv('dados.csv', index=False)\n",
    "\n",
    "print(\"Arquivo 'dados.csv' criado com sucesso.\")"
   ]
  },
  {
   "cell_type": "code",
   "execution_count": 3,
   "metadata": {},
   "outputs": [
    {
     "name": "stdout",
     "output_type": "stream",
     "text": [
      "Dados transformados foram carregados no banco de dados SQLite 'dados.db'.\n"
     ]
    }
   ],
   "source": [
    "# Extração: Lendo dados de um arquivo CSV\n",
    "df = pd.read_csv('dados.csv')\n",
    "\n",
    "# Transformação: Exemplo de transformações nos dados\n",
    "# Vamos supor que queremos filtrar os dados para incluir apenas registros com 'idade' maior que 30 e criar uma nova coluna 'dobro_idade'.\n",
    "df = df[df['idade'] > 30]\n",
    "df['dobro_idade'] = df['idade'] * 2\n",
    "\n",
    "# Carregamento: Criar um banco de dados SQLite e carregar os dados transformados\n",
    "con = sqlite3.connect('dados.db')\n",
    "df.to_sql('dados_transformados', con, if_exists='replace', index=False)\n",
    "con.close()\n",
    "\n",
    "print(\"Dados transformados foram carregados no banco de dados SQLite 'dados.db'.\")\n"
   ]
  }
 ],
 "metadata": {
  "kernelspec": {
   "display_name": "Python 3",
   "language": "python",
   "name": "python3"
  },
  "language_info": {
   "codemirror_mode": {
    "name": "ipython",
    "version": 3
   },
   "file_extension": ".py",
   "mimetype": "text/x-python",
   "name": "python",
   "nbconvert_exporter": "python",
   "pygments_lexer": "ipython3",
   "version": "3.9.4"
  }
 },
 "nbformat": 4,
 "nbformat_minor": 2
}
