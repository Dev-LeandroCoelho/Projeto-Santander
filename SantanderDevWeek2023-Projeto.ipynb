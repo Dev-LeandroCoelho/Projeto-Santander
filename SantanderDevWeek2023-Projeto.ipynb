{
 "cells": [
  {
   "cell_type": "code",
   "execution_count": 4,
   "metadata": {},
   "outputs": [],
   "source": [
    "import pandas as pd\n",
    "import sqlite3\n",
    "import requests"
   ]
  },
  {
   "cell_type": "code",
   "execution_count": 8,
   "metadata": {},
   "outputs": [],
   "source": [
    "# Tente conectar-se ao banco de dados (ele será criado se não existir)\n",
    "conn = sqlite3.connect(\"usuarios.db\")\n",
    "\n",
    "# Crie um cursor\n",
    "cursor = conn.cursor()\n",
    "\n",
    "# Crie a tabela \"usuarios\" com as colunas necessárias (se não existir)\n",
    "cursor.execute(\"\"\"\n",
    "CREATE TABLE IF NOT EXISTS usuarios (\n",
    "    id INTEGER PRIMARY KEY,\n",
    "    nome TEXT,\n",
    "    conta TEXT,\n",
    "    agencia TEXT,\n",
    "    cartao TEXT\n",
    ");\n",
    "\"\"\")\n",
    "\n",
    "# Commit para salvar as alterações e fechar a conexão\n",
    "conn.commit()\n",
    "conn.close()\n"
   ]
  },
  {
   "cell_type": "code",
   "execution_count": 19,
   "metadata": {},
   "outputs": [
    {
     "name": "stdout",
     "output_type": "stream",
     "text": [
      "Usuário Natalia criado com sucesso! ID: 5782\n"
     ]
    }
   ],
   "source": [
    "# URL da API\n",
    "api_url = \"https://sdw-2023-prd.up.railway.app/users\"\n",
    "\n",
    "# Ler o arquivo CSV usando o Pandas\n",
    "df = pd.read_csv(\"dados.csv\")\n",
    "\n",
    "# Inicializar a conexão com o banco de dados SQLite\n",
    "conn = sqlite3.connect(\"usuarios.db\")\n",
    "cursor = conn.cursor()\n",
    "\n",
    "for index, row in df.iterrows():\n",
    "    # Crie um objeto de usuário com os dados do DataFrame\n",
    "    user_data = {\n",
    "        \"name\": row[\"nome\"],\n",
    "        \"account\": {\n",
    "            \"number\": row[\"conta\"],\n",
    "            \"agency\": row[\"agencia\"],\n",
    "            \"balance\": 0,\n",
    "            \"limit\": 0\n",
    "        },\n",
    "        \"card\": {\n",
    "            \"number\": row[\"cartao\"],\n",
    "            \"limit\": 0\n",
    "        }\n",
    "    }\n",
    "\n",
    "    # Faça a solicitação POST para a API para criar o usuário\n",
    "    response = requests.post(api_url, json=user_data)\n",
    "\n",
    "    # Verifique se a solicitação foi bem-sucedida\n",
    "    if response.status_code == 201:\n",
    "        # Extrair o ID retornado da API\n",
    "        user_id = response.json()[\"id\"]\n",
    "        print(f\"Usuário {row['nome']} criado com sucesso! ID: {user_id}\")\n",
    "\n",
    "        # Inserir o usuário no banco de dados SQLite com o ID\n",
    "        cursor.execute(\"INSERT INTO usuarios (id, nome, conta, agencia, cartao) VALUES (?, ?, ?, ?, ?)\", \n",
    "                       (user_id, row[\"nome\"], row[\"conta\"], row[\"agencia\"], row[\"cartao\"]))\n",
    "        conn.commit()\n",
    "    else:\n",
    "        print(f\"Falha ao criar o usuário {row['nome']}\")\n",
    "\n",
    "# Fechar a conexão com o banco de dados\n",
    "conn.close()\n"
   ]
  },
  {
   "cell_type": "code",
   "execution_count": 20,
   "metadata": {},
   "outputs": [
    {
     "name": "stdout",
     "output_type": "stream",
     "text": [
      "ID: 5780\n",
      "Nome: Leandro\n",
      "Conta: 7071987\n",
      "Agência: 7890\n",
      "Cartão: 7890-1234-5678-9012\n",
      "-------------------------\n",
      "ID: 5781\n",
      "Nome: Rafael\n",
      "Conta: 5787\n",
      "Agência: 4567-7\n",
      "Cartão: ****-5678-9012-3456\n",
      "-------------------------\n",
      "ID: 5782\n",
      "Nome: Natalia\n",
      "Conta: 5978\n",
      "Agência: 4267-7\n",
      "Cartão: ****-****-9012-3456\n",
      "-------------------------\n"
     ]
    }
   ],
   "source": [
    "# Inicializar a conexão com o banco de dados SQLite\n",
    "conn = sqlite3.connect(\"usuarios.db\")\n",
    "cursor = conn.cursor()\n",
    "\n",
    "# Consulta SQL para selecionar todos os registros da tabela \"usuarios\"\n",
    "query = \"SELECT * FROM usuarios\"\n",
    "\n",
    "# Executar a consulta\n",
    "cursor.execute(query)\n",
    "\n",
    "# Recuperar todos os registros em uma lista de dicionários\n",
    "registros = cursor.fetchall()\n",
    "\n",
    "# Fechar a conexão com o banco de dados\n",
    "conn.close()\n",
    "\n",
    "# Exibir os registros\n",
    "for registro in registros:\n",
    "    print(\"ID:\", registro[0])\n",
    "    print(\"Nome:\", registro[1])\n",
    "    print(\"Conta:\", registro[2])\n",
    "    print(\"Agência:\", registro[3])\n",
    "    print(\"Cartão:\", registro[4])\n",
    "    print(\"-------------------------\")\n"
   ]
  }
 ],
 "metadata": {
  "kernelspec": {
   "display_name": "Python 3",
   "language": "python",
   "name": "python3"
  },
  "language_info": {
   "codemirror_mode": {
    "name": "ipython",
    "version": 3
   },
   "file_extension": ".py",
   "mimetype": "text/x-python",
   "name": "python",
   "nbconvert_exporter": "python",
   "pygments_lexer": "ipython3",
   "version": "3.9.4"
  }
 },
 "nbformat": 4,
 "nbformat_minor": 2
}
